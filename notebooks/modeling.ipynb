{
 "cells": [
  {
   "cell_type": "markdown",
   "id": "4d596ac4",
   "metadata": {},
   "source": [
    "# Loan Default Prediction - Modeling\n",
    "\n",
    "For the Modeling we want to showcase the following machine learning tools:\n",
    "\n",
    "<b>Keras/TensorFlow:</b> Keras is user-friendly and works well for deep learning. Our dataset is large enough and slightly complex, a neural network might capture the underlying patterns well. We will start with a simple feedforward neural network and gradually increase complexity if needed.\n",
    "\n",
    "\n",
    "<b>PyTorch:</b> If possible we may look into Pytorch as it's great for custom model architectures and provides us with flexibility. This is a bit more challenging than than Keras but it is powerful. We begin with a basic architecture and explore more complex layers and structures if needed. \n",
    "\n",
    "At the end we will compare the two. \n"
   ]
  },
  {
   "cell_type": "markdown",
   "id": "d57d6023",
   "metadata": {},
   "source": [
    "#### Imports"
   ]
  },
  {
   "cell_type": "code",
   "execution_count": 20,
   "id": "84202912",
   "metadata": {},
   "outputs": [
    {
     "ename": "ImportError",
     "evalue": "cannot import name '_MissingValues' from 'sklearn.utils._param_validation' (C:\\Users\\darde\\anaconda3\\Lib\\site-packages\\sklearn\\utils\\_param_validation.py)",
     "output_type": "error",
     "traceback": [
      "\u001b[1;31m---------------------------------------------------------------------------\u001b[0m",
      "\u001b[1;31mImportError\u001b[0m                               Traceback (most recent call last)",
      "Cell \u001b[1;32mIn[20], line 7\u001b[0m\n\u001b[0;32m      5\u001b[0m \u001b[38;5;28;01mfrom\u001b[39;00m \u001b[38;5;21;01msklearn\u001b[39;00m\u001b[38;5;21;01m.\u001b[39;00m\u001b[38;5;21;01mmodel_selection\u001b[39;00m \u001b[38;5;28;01mimport\u001b[39;00m train_test_split\n\u001b[0;32m      6\u001b[0m \u001b[38;5;28;01mfrom\u001b[39;00m \u001b[38;5;21;01msklearn\u001b[39;00m\u001b[38;5;21;01m.\u001b[39;00m\u001b[38;5;21;01mutils\u001b[39;00m\u001b[38;5;21;01m.\u001b[39;00m\u001b[38;5;21;01mclass_weight\u001b[39;00m \u001b[38;5;28;01mimport\u001b[39;00m compute_class_weight\n\u001b[1;32m----> 7\u001b[0m \u001b[38;5;28;01mfrom\u001b[39;00m \u001b[38;5;21;01mimblearn\u001b[39;00m\u001b[38;5;21;01m.\u001b[39;00m\u001b[38;5;21;01mover_sampling\u001b[39;00m \u001b[38;5;28;01mimport\u001b[39;00m SMOTE\n\u001b[0;32m      9\u001b[0m \u001b[38;5;28;01mimport\u001b[39;00m \u001b[38;5;21;01mtensorflow\u001b[39;00m \u001b[38;5;28;01mas\u001b[39;00m \u001b[38;5;21;01mtf\u001b[39;00m\n\u001b[0;32m     10\u001b[0m \u001b[38;5;28;01mfrom\u001b[39;00m \u001b[38;5;21;01mtensorflow\u001b[39;00m\u001b[38;5;21;01m.\u001b[39;00m\u001b[38;5;21;01mkeras\u001b[39;00m\u001b[38;5;21;01m.\u001b[39;00m\u001b[38;5;21;01mmodels\u001b[39;00m \u001b[38;5;28;01mimport\u001b[39;00m Sequential\n",
      "File \u001b[1;32m~\\anaconda3\\Lib\\site-packages\\imblearn\\__init__.py:52\u001b[0m\n\u001b[0;32m     48\u001b[0m     sys\u001b[38;5;241m.\u001b[39mstderr\u001b[38;5;241m.\u001b[39mwrite(\u001b[38;5;124m\"\u001b[39m\u001b[38;5;124mPartial import of imblearn during the build process.\u001b[39m\u001b[38;5;130;01m\\n\u001b[39;00m\u001b[38;5;124m\"\u001b[39m)\n\u001b[0;32m     49\u001b[0m     \u001b[38;5;66;03m# We are not importing the rest of scikit-learn during the build\u001b[39;00m\n\u001b[0;32m     50\u001b[0m     \u001b[38;5;66;03m# process, as it may not be compiled yet\u001b[39;00m\n\u001b[0;32m     51\u001b[0m \u001b[38;5;28;01melse\u001b[39;00m:\n\u001b[1;32m---> 52\u001b[0m     \u001b[38;5;28;01mfrom\u001b[39;00m \u001b[38;5;21;01m.\u001b[39;00m \u001b[38;5;28;01mimport\u001b[39;00m (\n\u001b[0;32m     53\u001b[0m         combine,\n\u001b[0;32m     54\u001b[0m         ensemble,\n\u001b[0;32m     55\u001b[0m         exceptions,\n\u001b[0;32m     56\u001b[0m         metrics,\n\u001b[0;32m     57\u001b[0m         over_sampling,\n\u001b[0;32m     58\u001b[0m         pipeline,\n\u001b[0;32m     59\u001b[0m         tensorflow,\n\u001b[0;32m     60\u001b[0m         under_sampling,\n\u001b[0;32m     61\u001b[0m         utils,\n\u001b[0;32m     62\u001b[0m     )\n\u001b[0;32m     63\u001b[0m     \u001b[38;5;28;01mfrom\u001b[39;00m \u001b[38;5;21;01m.\u001b[39;00m\u001b[38;5;21;01m_version\u001b[39;00m \u001b[38;5;28;01mimport\u001b[39;00m __version__\n\u001b[0;32m     64\u001b[0m     \u001b[38;5;28;01mfrom\u001b[39;00m \u001b[38;5;21;01m.\u001b[39;00m\u001b[38;5;21;01mbase\u001b[39;00m \u001b[38;5;28;01mimport\u001b[39;00m FunctionSampler\n",
      "File \u001b[1;32m~\\anaconda3\\Lib\\site-packages\\imblearn\\combine\\__init__.py:5\u001b[0m\n\u001b[0;32m      1\u001b[0m \u001b[38;5;124;03m\"\"\"The :mod:`imblearn.combine` provides methods which combine\u001b[39;00m\n\u001b[0;32m      2\u001b[0m \u001b[38;5;124;03mover-sampling and under-sampling.\u001b[39;00m\n\u001b[0;32m      3\u001b[0m \u001b[38;5;124;03m\"\"\"\u001b[39;00m\n\u001b[1;32m----> 5\u001b[0m \u001b[38;5;28;01mfrom\u001b[39;00m \u001b[38;5;21;01m.\u001b[39;00m\u001b[38;5;21;01m_smote_enn\u001b[39;00m \u001b[38;5;28;01mimport\u001b[39;00m SMOTEENN\n\u001b[0;32m      6\u001b[0m \u001b[38;5;28;01mfrom\u001b[39;00m \u001b[38;5;21;01m.\u001b[39;00m\u001b[38;5;21;01m_smote_tomek\u001b[39;00m \u001b[38;5;28;01mimport\u001b[39;00m SMOTETomek\n\u001b[0;32m      8\u001b[0m __all__ \u001b[38;5;241m=\u001b[39m [\u001b[38;5;124m\"\u001b[39m\u001b[38;5;124mSMOTEENN\u001b[39m\u001b[38;5;124m\"\u001b[39m, \u001b[38;5;124m\"\u001b[39m\u001b[38;5;124mSMOTETomek\u001b[39m\u001b[38;5;124m\"\u001b[39m]\n",
      "File \u001b[1;32m~\\anaconda3\\Lib\\site-packages\\imblearn\\combine\\_smote_enn.py:12\u001b[0m\n\u001b[0;32m      9\u001b[0m \u001b[38;5;28;01mfrom\u001b[39;00m \u001b[38;5;21;01msklearn\u001b[39;00m\u001b[38;5;21;01m.\u001b[39;00m\u001b[38;5;21;01mbase\u001b[39;00m \u001b[38;5;28;01mimport\u001b[39;00m clone\n\u001b[0;32m     10\u001b[0m \u001b[38;5;28;01mfrom\u001b[39;00m \u001b[38;5;21;01msklearn\u001b[39;00m\u001b[38;5;21;01m.\u001b[39;00m\u001b[38;5;21;01mutils\u001b[39;00m \u001b[38;5;28;01mimport\u001b[39;00m check_X_y\n\u001b[1;32m---> 12\u001b[0m \u001b[38;5;28;01mfrom\u001b[39;00m \u001b[38;5;21;01m.\u001b[39;00m\u001b[38;5;21;01m.\u001b[39;00m\u001b[38;5;21;01mbase\u001b[39;00m \u001b[38;5;28;01mimport\u001b[39;00m BaseSampler\n\u001b[0;32m     13\u001b[0m \u001b[38;5;28;01mfrom\u001b[39;00m \u001b[38;5;21;01m.\u001b[39;00m\u001b[38;5;21;01m.\u001b[39;00m\u001b[38;5;21;01mover_sampling\u001b[39;00m \u001b[38;5;28;01mimport\u001b[39;00m SMOTE\n\u001b[0;32m     14\u001b[0m \u001b[38;5;28;01mfrom\u001b[39;00m \u001b[38;5;21;01m.\u001b[39;00m\u001b[38;5;21;01m.\u001b[39;00m\u001b[38;5;21;01mover_sampling\u001b[39;00m\u001b[38;5;21;01m.\u001b[39;00m\u001b[38;5;21;01mbase\u001b[39;00m \u001b[38;5;28;01mimport\u001b[39;00m BaseOverSampler\n",
      "File \u001b[1;32m~\\anaconda3\\Lib\\site-packages\\imblearn\\base.py:21\u001b[0m\n\u001b[0;32m     18\u001b[0m \u001b[38;5;28;01mfrom\u001b[39;00m \u001b[38;5;21;01msklearn\u001b[39;00m\u001b[38;5;21;01m.\u001b[39;00m\u001b[38;5;21;01mutils\u001b[39;00m\u001b[38;5;21;01m.\u001b[39;00m\u001b[38;5;21;01mmulticlass\u001b[39;00m \u001b[38;5;28;01mimport\u001b[39;00m check_classification_targets\n\u001b[0;32m     20\u001b[0m \u001b[38;5;28;01mfrom\u001b[39;00m \u001b[38;5;21;01m.\u001b[39;00m\u001b[38;5;21;01mutils\u001b[39;00m \u001b[38;5;28;01mimport\u001b[39;00m check_sampling_strategy, check_target_type\n\u001b[1;32m---> 21\u001b[0m \u001b[38;5;28;01mfrom\u001b[39;00m \u001b[38;5;21;01m.\u001b[39;00m\u001b[38;5;21;01mutils\u001b[39;00m\u001b[38;5;21;01m.\u001b[39;00m\u001b[38;5;21;01m_param_validation\u001b[39;00m \u001b[38;5;28;01mimport\u001b[39;00m validate_parameter_constraints\n\u001b[0;32m     22\u001b[0m \u001b[38;5;28;01mfrom\u001b[39;00m \u001b[38;5;21;01m.\u001b[39;00m\u001b[38;5;21;01mutils\u001b[39;00m\u001b[38;5;21;01m.\u001b[39;00m\u001b[38;5;21;01m_validation\u001b[39;00m \u001b[38;5;28;01mimport\u001b[39;00m ArraysTransformer\n\u001b[0;32m     25\u001b[0m \u001b[38;5;28;01mclass\u001b[39;00m \u001b[38;5;21;01mSamplerMixin\u001b[39;00m(BaseEstimator, metaclass\u001b[38;5;241m=\u001b[39mABCMeta):\n",
      "File \u001b[1;32m~\\anaconda3\\Lib\\site-packages\\imblearn\\utils\\_param_validation.py:908\u001b[0m\n\u001b[0;32m    906\u001b[0m \u001b[38;5;28;01mfrom\u001b[39;00m \u001b[38;5;21;01msklearn\u001b[39;00m\u001b[38;5;21;01m.\u001b[39;00m\u001b[38;5;21;01mutils\u001b[39;00m\u001b[38;5;21;01m.\u001b[39;00m\u001b[38;5;21;01m_param_validation\u001b[39;00m \u001b[38;5;28;01mimport\u001b[39;00m generate_valid_param  \u001b[38;5;66;03m# noqa\u001b[39;00m\n\u001b[0;32m    907\u001b[0m \u001b[38;5;28;01mfrom\u001b[39;00m \u001b[38;5;21;01msklearn\u001b[39;00m\u001b[38;5;21;01m.\u001b[39;00m\u001b[38;5;21;01mutils\u001b[39;00m\u001b[38;5;21;01m.\u001b[39;00m\u001b[38;5;21;01m_param_validation\u001b[39;00m \u001b[38;5;28;01mimport\u001b[39;00m validate_parameter_constraints  \u001b[38;5;66;03m# noqa\u001b[39;00m\n\u001b[1;32m--> 908\u001b[0m \u001b[38;5;28;01mfrom\u001b[39;00m \u001b[38;5;21;01msklearn\u001b[39;00m\u001b[38;5;21;01m.\u001b[39;00m\u001b[38;5;21;01mutils\u001b[39;00m\u001b[38;5;21;01m.\u001b[39;00m\u001b[38;5;21;01m_param_validation\u001b[39;00m \u001b[38;5;28;01mimport\u001b[39;00m (\n\u001b[0;32m    909\u001b[0m     HasMethods,\n\u001b[0;32m    910\u001b[0m     Hidden,\n\u001b[0;32m    911\u001b[0m     Interval,\n\u001b[0;32m    912\u001b[0m     Options,\n\u001b[0;32m    913\u001b[0m     StrOptions,\n\u001b[0;32m    914\u001b[0m     _ArrayLikes,\n\u001b[0;32m    915\u001b[0m     _Booleans,\n\u001b[0;32m    916\u001b[0m     _Callables,\n\u001b[0;32m    917\u001b[0m     _CVObjects,\n\u001b[0;32m    918\u001b[0m     _InstancesOf,\n\u001b[0;32m    919\u001b[0m     _IterablesNotString,\n\u001b[0;32m    920\u001b[0m     _MissingValues,\n\u001b[0;32m    921\u001b[0m     _NoneConstraint,\n\u001b[0;32m    922\u001b[0m     _PandasNAConstraint,\n\u001b[0;32m    923\u001b[0m     _RandomStates,\n\u001b[0;32m    924\u001b[0m     _SparseMatrices,\n\u001b[0;32m    925\u001b[0m     _VerboseHelper,\n\u001b[0;32m    926\u001b[0m     make_constraint,\n\u001b[0;32m    927\u001b[0m     validate_params,\n\u001b[0;32m    928\u001b[0m )\n",
      "\u001b[1;31mImportError\u001b[0m: cannot import name '_MissingValues' from 'sklearn.utils._param_validation' (C:\\Users\\darde\\anaconda3\\Lib\\site-packages\\sklearn\\utils\\_param_validation.py)"
     ]
    }
   ],
   "source": [
    "import numpy as np\n",
    "import pandas as pd\n",
    "import matplotlib.pyplot as plt\n",
    "import seaborn as sns\n",
    "from sklearn.model_selection import train_test_split\n",
    "from sklearn.utils.class_weight import compute_class_weight\n",
    "from imblearn.over_sampling import SMOTE\n",
    "\n",
    "import tensorflow as tf\n",
    "from tensorflow.keras.models import Sequential\n",
    "from tensorflow.keras.layers import Dense\n",
    "from sklearn.metrics import roc_auc_score, classification_report, confusion_matrix\n",
    "\n"
   ]
  },
  {
   "cell_type": "code",
   "execution_count": 4,
   "id": "bb8b6311",
   "metadata": {},
   "outputs": [
    {
     "data": {
      "text/html": [
       "<div>\n",
       "<style scoped>\n",
       "    .dataframe tbody tr th:only-of-type {\n",
       "        vertical-align: middle;\n",
       "    }\n",
       "\n",
       "    .dataframe tbody tr th {\n",
       "        vertical-align: top;\n",
       "    }\n",
       "\n",
       "    .dataframe thead th {\n",
       "        text-align: right;\n",
       "    }\n",
       "</style>\n",
       "<table border=\"1\" class=\"dataframe\">\n",
       "  <thead>\n",
       "    <tr style=\"text-align: right;\">\n",
       "      <th></th>\n",
       "      <th>Income</th>\n",
       "      <th>LoanAmount</th>\n",
       "      <th>CreditScore</th>\n",
       "      <th>MonthsEmployed</th>\n",
       "      <th>NumCreditLines</th>\n",
       "      <th>InterestRate</th>\n",
       "      <th>LoanTerm</th>\n",
       "      <th>DTIRatio</th>\n",
       "      <th>Education</th>\n",
       "      <th>EmploymentType</th>\n",
       "      <th>MaritalStatus</th>\n",
       "      <th>HasMortgage</th>\n",
       "      <th>HasDependents</th>\n",
       "      <th>LoanPurpose</th>\n",
       "      <th>HasCoSigner</th>\n",
       "      <th>Default</th>\n",
       "    </tr>\n",
       "    <tr>\n",
       "      <th>Age</th>\n",
       "      <th></th>\n",
       "      <th></th>\n",
       "      <th></th>\n",
       "      <th></th>\n",
       "      <th></th>\n",
       "      <th></th>\n",
       "      <th></th>\n",
       "      <th></th>\n",
       "      <th></th>\n",
       "      <th></th>\n",
       "      <th></th>\n",
       "      <th></th>\n",
       "      <th></th>\n",
       "      <th></th>\n",
       "      <th></th>\n",
       "      <th></th>\n",
       "    </tr>\n",
       "  </thead>\n",
       "  <tbody>\n",
       "    <tr>\n",
       "      <th>56</th>\n",
       "      <td>85994</td>\n",
       "      <td>50587</td>\n",
       "      <td>520</td>\n",
       "      <td>80</td>\n",
       "      <td>4</td>\n",
       "      <td>15.23</td>\n",
       "      <td>36</td>\n",
       "      <td>0.44</td>\n",
       "      <td>0</td>\n",
       "      <td>0</td>\n",
       "      <td>0</td>\n",
       "      <td>1</td>\n",
       "      <td>1</td>\n",
       "      <td>4</td>\n",
       "      <td>1</td>\n",
       "      <td>0</td>\n",
       "    </tr>\n",
       "    <tr>\n",
       "      <th>69</th>\n",
       "      <td>50432</td>\n",
       "      <td>124440</td>\n",
       "      <td>458</td>\n",
       "      <td>15</td>\n",
       "      <td>1</td>\n",
       "      <td>4.81</td>\n",
       "      <td>60</td>\n",
       "      <td>0.68</td>\n",
       "      <td>2</td>\n",
       "      <td>0</td>\n",
       "      <td>1</td>\n",
       "      <td>0</td>\n",
       "      <td>0</td>\n",
       "      <td>4</td>\n",
       "      <td>1</td>\n",
       "      <td>0</td>\n",
       "    </tr>\n",
       "    <tr>\n",
       "      <th>46</th>\n",
       "      <td>84208</td>\n",
       "      <td>129188</td>\n",
       "      <td>451</td>\n",
       "      <td>26</td>\n",
       "      <td>3</td>\n",
       "      <td>21.17</td>\n",
       "      <td>24</td>\n",
       "      <td>0.31</td>\n",
       "      <td>2</td>\n",
       "      <td>3</td>\n",
       "      <td>0</td>\n",
       "      <td>1</td>\n",
       "      <td>1</td>\n",
       "      <td>0</td>\n",
       "      <td>0</td>\n",
       "      <td>1</td>\n",
       "    </tr>\n",
       "    <tr>\n",
       "      <th>32</th>\n",
       "      <td>31713</td>\n",
       "      <td>44799</td>\n",
       "      <td>743</td>\n",
       "      <td>0</td>\n",
       "      <td>3</td>\n",
       "      <td>7.07</td>\n",
       "      <td>24</td>\n",
       "      <td>0.23</td>\n",
       "      <td>1</td>\n",
       "      <td>0</td>\n",
       "      <td>1</td>\n",
       "      <td>0</td>\n",
       "      <td>0</td>\n",
       "      <td>1</td>\n",
       "      <td>0</td>\n",
       "      <td>0</td>\n",
       "    </tr>\n",
       "    <tr>\n",
       "      <th>60</th>\n",
       "      <td>20437</td>\n",
       "      <td>9139</td>\n",
       "      <td>633</td>\n",
       "      <td>8</td>\n",
       "      <td>4</td>\n",
       "      <td>6.51</td>\n",
       "      <td>48</td>\n",
       "      <td>0.73</td>\n",
       "      <td>0</td>\n",
       "      <td>3</td>\n",
       "      <td>0</td>\n",
       "      <td>0</td>\n",
       "      <td>1</td>\n",
       "      <td>0</td>\n",
       "      <td>0</td>\n",
       "      <td>0</td>\n",
       "    </tr>\n",
       "  </tbody>\n",
       "</table>\n",
       "</div>"
      ],
      "text/plain": [
       "     Income  LoanAmount  CreditScore  MonthsEmployed  NumCreditLines  \\\n",
       "Age                                                                    \n",
       "56    85994       50587          520              80               4   \n",
       "69    50432      124440          458              15               1   \n",
       "46    84208      129188          451              26               3   \n",
       "32    31713       44799          743               0               3   \n",
       "60    20437        9139          633               8               4   \n",
       "\n",
       "     InterestRate  LoanTerm  DTIRatio  Education  EmploymentType  \\\n",
       "Age                                                                \n",
       "56          15.23        36      0.44          0               0   \n",
       "69           4.81        60      0.68          2               0   \n",
       "46          21.17        24      0.31          2               3   \n",
       "32           7.07        24      0.23          1               0   \n",
       "60           6.51        48      0.73          0               3   \n",
       "\n",
       "     MaritalStatus  HasMortgage  HasDependents  LoanPurpose  HasCoSigner  \\\n",
       "Age                                                                        \n",
       "56               0            1              1            4            1   \n",
       "69               1            0              0            4            1   \n",
       "46               0            1              1            0            0   \n",
       "32               1            0              0            1            0   \n",
       "60               0            0              1            0            0   \n",
       "\n",
       "     Default  \n",
       "Age           \n",
       "56         0  \n",
       "69         0  \n",
       "46         1  \n",
       "32         0  \n",
       "60         0  "
      ]
     },
     "execution_count": 4,
     "metadata": {},
     "output_type": "execute_result"
    }
   ],
   "source": [
    "df = pd.read_csv(\"../data/loan_data_cleaned.csv\", index_col=0)\n",
    "\n",
    "df.head()"
   ]
  },
  {
   "cell_type": "markdown",
   "id": "19af7710",
   "metadata": {},
   "source": [
    "### Train-Test Split"
   ]
  },
  {
   "cell_type": "code",
   "execution_count": 5,
   "id": "472238bd",
   "metadata": {},
   "outputs": [],
   "source": [
    "# we are doing an 80/20 split\n",
    "\n",
    "X = df.drop('Default', axis=1)  \n",
    "y = df['Default']  \n",
    "\n",
    "X_train, X_test, y_train, y_test = train_test_split(X, y, test_size=0.2, random_state=99)"
   ]
  },
  {
   "cell_type": "markdown",
   "id": "dfa85e01",
   "metadata": {},
   "source": [
    "## Neural Network with Keras/TensorFlow\n",
    "We'll start by building a simple feedforward neural network (multilayer perceptron) for classification.\n",
    "\n",
    "For our model we will have an input layer, two hidden layers (64 and 32 units), and an output layer. We will use ReLU for hidden layers and Sigmoid for the output layer since it’s a binary classification problem.\n",
    "\n",
    "We will train the model with 10 epochs and adjust depending on the performance. (How many times the model will go through the training set)\n",
    "\n",
    "Note:\n",
    "Batch controls how many samples are processed before the model’s internal parameters are updated.\n",
    "validation_split=0.2: This will use 20% of the training data for validation during training, which helps monitor the model's performance on unseen data."
   ]
  },
  {
   "cell_type": "code",
   "execution_count": 7,
   "id": "5ef4d461",
   "metadata": {},
   "outputs": [
    {
     "name": "stdout",
     "output_type": "stream",
     "text": [
      "Epoch 1/10\n",
      "5107/5107 [==============================] - 12s 2ms/step - loss: 33.9322 - accuracy: 0.8034 - val_loss: 1.6528 - val_accuracy: 0.8451\n",
      "Epoch 2/10\n",
      "5107/5107 [==============================] - 13s 3ms/step - loss: 1.3038 - accuracy: 0.8328 - val_loss: 0.3607 - val_accuracy: 0.8827\n",
      "Epoch 3/10\n",
      "5107/5107 [==============================] - 10s 2ms/step - loss: 0.4003 - accuracy: 0.8813 - val_loss: 0.3580 - val_accuracy: 0.8845\n",
      "Epoch 4/10\n",
      "5107/5107 [==============================] - 11s 2ms/step - loss: 0.3598 - accuracy: 0.8836 - val_loss: 0.3579 - val_accuracy: 0.8845\n",
      "Epoch 5/10\n",
      "5107/5107 [==============================] - 11s 2ms/step - loss: 0.3598 - accuracy: 0.8836 - val_loss: 0.3581 - val_accuracy: 0.8845\n",
      "Epoch 6/10\n",
      "5107/5107 [==============================] - 11s 2ms/step - loss: 0.3599 - accuracy: 0.8836 - val_loss: 0.3579 - val_accuracy: 0.8845\n",
      "Epoch 7/10\n",
      "5107/5107 [==============================] - 11s 2ms/step - loss: 0.3598 - accuracy: 0.8836 - val_loss: 0.3581 - val_accuracy: 0.8845\n",
      "Epoch 8/10\n",
      "5107/5107 [==============================] - 11s 2ms/step - loss: 0.3599 - accuracy: 0.8836 - val_loss: 0.3580 - val_accuracy: 0.8845\n",
      "Epoch 9/10\n",
      "5107/5107 [==============================] - 10s 2ms/step - loss: 0.3599 - accuracy: 0.8836 - val_loss: 0.3579 - val_accuracy: 0.8845\n",
      "Epoch 10/10\n",
      "5107/5107 [==============================] - 10s 2ms/step - loss: 0.3599 - accuracy: 0.8836 - val_loss: 0.3579 - val_accuracy: 0.8845\n",
      "1596/1596 [==============================] - 2s 1ms/step\n",
      "AUC-ROC Score: 0.5\n"
     ]
    }
   ],
   "source": [
    "\n",
    "model = Sequential()\n",
    "\n",
    "\n",
    "model.add(Dense(64, input_dim=X_train.shape[1], activation='relu'))  \n",
    "\n",
    "model.add(Dense(32, activation='relu'))\n",
    "model.add(Dense(16, activation='relu'))\n",
    "\n",
    "model.add(Dense(1, activation='sigmoid'))\n",
    "\n",
    "model.compile(optimizer='adam', loss='binary_crossentropy', metrics=['accuracy'])\n",
    "\n",
    "history = model.fit(X_train, y_train, validation_split=0.2, epochs=10, batch_size=32)\n",
    "\n",
    "\n",
    "y_pred_prob = model.predict(X_test)\n",
    "y_pred_class = (y_pred_prob > 0.5).astype(\"int32\")\n",
    "\n",
    "# Evaluate the model\n",
    "auc = roc_auc_score(y_test, y_pred_prob)\n",
    "print(f\"AUC-ROC Score: {auc}\")\n"
   ]
  },
  {
   "cell_type": "markdown",
   "id": "835fe80c",
   "metadata": {},
   "source": [
    "#### Keras/TensorFlow Evaluation\n",
    "\n"
   ]
  },
  {
   "cell_type": "code",
   "execution_count": 10,
   "id": "006597ff",
   "metadata": {
    "scrolled": false
   },
   "outputs": [
    {
     "name": "stdout",
     "output_type": "stream",
     "text": [
      "AUC-ROC Score: 0.5\n",
      "Classification Report:\n",
      "               precision    recall  f1-score   support\n",
      "\n",
      "           0       0.88      1.00      0.94     45167\n",
      "           1       0.00      0.00      0.00      5903\n",
      "\n",
      "    accuracy                           0.88     51070\n",
      "   macro avg       0.44      0.50      0.47     51070\n",
      "weighted avg       0.78      0.88      0.83     51070\n",
      "\n",
      "Confusion Matrix:\n",
      " [[45167     0]\n",
      " [ 5903     0]]\n"
     ]
    },
    {
     "name": "stderr",
     "output_type": "stream",
     "text": [
      "C:\\Users\\darde\\anaconda3\\Lib\\site-packages\\sklearn\\metrics\\_classification.py:1531: UndefinedMetricWarning: Precision is ill-defined and being set to 0.0 in labels with no predicted samples. Use `zero_division` parameter to control this behavior.\n",
      "  _warn_prf(average, modifier, f\"{metric.capitalize()} is\", len(result))\n",
      "C:\\Users\\darde\\anaconda3\\Lib\\site-packages\\sklearn\\metrics\\_classification.py:1531: UndefinedMetricWarning: Precision is ill-defined and being set to 0.0 in labels with no predicted samples. Use `zero_division` parameter to control this behavior.\n",
      "  _warn_prf(average, modifier, f\"{metric.capitalize()} is\", len(result))\n",
      "C:\\Users\\darde\\anaconda3\\Lib\\site-packages\\sklearn\\metrics\\_classification.py:1531: UndefinedMetricWarning: Precision is ill-defined and being set to 0.0 in labels with no predicted samples. Use `zero_division` parameter to control this behavior.\n",
      "  _warn_prf(average, modifier, f\"{metric.capitalize()} is\", len(result))\n"
     ]
    }
   ],
   "source": [
    "\n",
    "auc = roc_auc_score(y_test, y_pred_prob)\n",
    "print(f\"AUC-ROC Score: {auc}\")\n",
    "\n",
    "print(\"Classification Report:\\n\", classification_report(y_test, y_pred_class))\n",
    "\n",
    "print(\"Confusion Matrix:\\n\", confusion_matrix(y_test, y_pred_class))"
   ]
  },
  {
   "cell_type": "markdown",
   "id": "c4b89233",
   "metadata": {},
   "source": [
    "##### Observation\n",
    "This shows that the model is performing poorly since it isn't distinguishing between defaults and non-defaults effectively.\n",
    "\n",
    "\n",
    "This is because the model is biased towards the majority class (class 0)which is because are many more non-defaults than defaults. So in this case, the model learned to predict non-defaults every time, which leads to high accuracy but poor recall for the default cases.\n",
    "\n",
    "To fix this we will using class weights, where we assign more weight to the minority class to encourage the model to pay more attention to it."
   ]
  },
  {
   "cell_type": "markdown",
   "id": "41f0a741",
   "metadata": {},
   "source": [
    "### Weight Classes"
   ]
  },
  {
   "cell_type": "code",
   "execution_count": 17,
   "id": "576201f1",
   "metadata": {},
   "outputs": [
    {
     "name": "stdout",
     "output_type": "stream",
     "text": [
      "Class Weights:  {0: 0.5657796340713578, 1: 4.300568421052631}\n"
     ]
    }
   ],
   "source": [
    "class_weights = compute_class_weight('balanced', classes=np.array([0, 1]), y=y_train)\n",
    "class_weights_dict = {0: class_weights[0], 1: class_weights[1]}\n",
    "\n",
    "print(\"Class Weights: \", class_weights_dict)"
   ]
  },
  {
   "cell_type": "markdown",
   "id": "b1e4e353",
   "metadata": {},
   "source": [
    "Before making predictions on the test set, we are going to evaluate the model on the test set"
   ]
  },
  {
   "cell_type": "code",
   "execution_count": 18,
   "id": "6bc5d575",
   "metadata": {},
   "outputs": [
    {
     "name": "stdout",
     "output_type": "stream",
     "text": [
      "Epoch 1/10\n",
      "5107/5107 [==============================] - 14s 3ms/step - loss: 0.6993 - accuracy: 0.5387 - val_loss: 0.6886 - val_accuracy: 0.8845\n",
      "Epoch 2/10\n",
      "5107/5107 [==============================] - 13s 3ms/step - loss: 0.6938 - accuracy: 0.4794 - val_loss: 0.6971 - val_accuracy: 0.1155\n",
      "Epoch 3/10\n",
      "5107/5107 [==============================] - 12s 2ms/step - loss: 0.6938 - accuracy: 0.4992 - val_loss: 0.7138 - val_accuracy: 0.1155\n",
      "Epoch 4/10\n",
      "5107/5107 [==============================] - 12s 2ms/step - loss: 0.6938 - accuracy: 0.4750 - val_loss: 0.6984 - val_accuracy: 0.1155\n",
      "Epoch 5/10\n",
      "5107/5107 [==============================] - 12s 2ms/step - loss: 0.6939 - accuracy: 0.4668 - val_loss: 0.6959 - val_accuracy: 0.1155\n",
      "Epoch 6/10\n",
      "5107/5107 [==============================] - 12s 2ms/step - loss: 0.6939 - accuracy: 0.4836 - val_loss: 0.7023 - val_accuracy: 0.1155\n",
      "Epoch 7/10\n",
      "5107/5107 [==============================] - 11s 2ms/step - loss: 0.6938 - accuracy: 0.5226 - val_loss: 0.6988 - val_accuracy: 0.1155\n",
      "Epoch 8/10\n",
      "5107/5107 [==============================] - 11s 2ms/step - loss: 0.6938 - accuracy: 0.5270 - val_loss: 0.7048 - val_accuracy: 0.1155\n",
      "Epoch 9/10\n",
      "5107/5107 [==============================] - 12s 2ms/step - loss: 0.6938 - accuracy: 0.4890 - val_loss: 0.6991 - val_accuracy: 0.1155\n",
      "Epoch 10/10\n",
      "5107/5107 [==============================] - 12s 2ms/step - loss: 0.6937 - accuracy: 0.4769 - val_loss: 0.6734 - val_accuracy: 0.8845\n",
      "1596/1596 [==============================] - 2s 1ms/step - loss: 0.6734 - accuracy: 0.8844\n",
      "Test Loss: 0.6734201908111572\n",
      "Test Accuracy: 0.8844135403633118\n"
     ]
    }
   ],
   "source": [
    "history = model.fit(X_train, y_train, validation_split=0.2, epochs=10, batch_size=32, class_weight=class_weights_dict)\n",
    "loss, accuracy = model.evaluate(X_test, y_test)\n",
    "print(f\"Test Loss: {loss}\")\n",
    "print(f\"Test Accuracy: {accuracy}\")"
   ]
  },
  {
   "cell_type": "code",
   "execution_count": 19,
   "id": "4d88c3f8",
   "metadata": {},
   "outputs": [
    {
     "name": "stdout",
     "output_type": "stream",
     "text": [
      "1596/1596 [==============================] - 2s 1ms/step\n",
      "AUC-ROC Score: 0.5\n",
      "Classification Report:\n",
      "               precision    recall  f1-score   support\n",
      "\n",
      "           0       0.88      1.00      0.94     45167\n",
      "           1       0.00      0.00      0.00      5903\n",
      "\n",
      "    accuracy                           0.88     51070\n",
      "   macro avg       0.44      0.50      0.47     51070\n",
      "weighted avg       0.78      0.88      0.83     51070\n",
      "\n",
      "Confusion Matrix:\n",
      " [[45167     0]\n",
      " [ 5903     0]]\n"
     ]
    },
    {
     "name": "stderr",
     "output_type": "stream",
     "text": [
      "C:\\Users\\darde\\anaconda3\\Lib\\site-packages\\sklearn\\metrics\\_classification.py:1531: UndefinedMetricWarning: Precision is ill-defined and being set to 0.0 in labels with no predicted samples. Use `zero_division` parameter to control this behavior.\n",
      "  _warn_prf(average, modifier, f\"{metric.capitalize()} is\", len(result))\n",
      "C:\\Users\\darde\\anaconda3\\Lib\\site-packages\\sklearn\\metrics\\_classification.py:1531: UndefinedMetricWarning: Precision is ill-defined and being set to 0.0 in labels with no predicted samples. Use `zero_division` parameter to control this behavior.\n",
      "  _warn_prf(average, modifier, f\"{metric.capitalize()} is\", len(result))\n",
      "C:\\Users\\darde\\anaconda3\\Lib\\site-packages\\sklearn\\metrics\\_classification.py:1531: UndefinedMetricWarning: Precision is ill-defined and being set to 0.0 in labels with no predicted samples. Use `zero_division` parameter to control this behavior.\n",
      "  _warn_prf(average, modifier, f\"{metric.capitalize()} is\", len(result))\n"
     ]
    }
   ],
   "source": [
    "# Prediction\n",
    "y_pred_prob = model.predict(X_test)\n",
    "y_pred_class = (y_pred_prob > 0.5).astype(\"int32\")\n",
    "\n",
    "#Evaluation\n",
    "auc = roc_auc_score(y_test, y_pred_prob)\n",
    "print(f\"AUC-ROC Score: {auc}\")\n",
    "print(\"Classification Report:\\n\", classification_report(y_test, y_pred_class))\n",
    "print(\"Confusion Matrix:\\n\", confusion_matrix(y_test, y_pred_class))"
   ]
  },
  {
   "cell_type": "markdown",
   "id": "86302ec7",
   "metadata": {},
   "source": [
    "#### Observation\n",
    "It looks like the class weights did not improve the model. The model is no better than random guessing\n",
    "\n",
    "AUC-ROC Score: 0.5\n",
    "Recall and Precision for Class 1 (defaults) are still 0:\n",
    "Confusion Matrix: All instances are classified as non-defaults.\n",
    "\n",
    "<b>Possible Reasons:</b>\n",
    "SThe class imbalance might still be too strong, and even with class weights, the model struggles to predict defaults.\n",
    "\n",
    "Our  architecture may not be well-suited for this problem.\n",
    "\n",
    "Or our features might not be sufficient enough for the model.\n",
    "\n",
    "<b>Next Steps</b>\n",
    "We could look into increasing the class weights. \n",
    "Consider using SMOTE\n",
    "Add more layers or neurons\n",
    "Use Ensemble model such as XGBoost or Random Forest\n",
    "Lower the threshold for classifying defaults (try 0.3 instead of 0.5)"
   ]
  },
  {
   "cell_type": "markdown",
   "id": "30d1cfd1",
   "metadata": {},
   "source": [
    "### SMOTE \n",
    "We will try SMOTE (Synthetic Minority Over-sampling Technique), hopefully this could help balance the dataset better than class weights."
   ]
  },
  {
   "cell_type": "code",
   "execution_count": null,
   "id": "b2070df1",
   "metadata": {},
   "outputs": [],
   "source": []
  }
 ],
 "metadata": {
  "kernelspec": {
   "display_name": "Python 3 (ipykernel)",
   "language": "python",
   "name": "python3"
  },
  "language_info": {
   "codemirror_mode": {
    "name": "ipython",
    "version": 3
   },
   "file_extension": ".py",
   "mimetype": "text/x-python",
   "name": "python",
   "nbconvert_exporter": "python",
   "pygments_lexer": "ipython3",
   "version": "3.11.5"
  }
 },
 "nbformat": 4,
 "nbformat_minor": 5
}
